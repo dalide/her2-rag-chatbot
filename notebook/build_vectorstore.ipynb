{
 "cells": [
  {
   "cell_type": "code",
   "execution_count": 17,
   "metadata": {},
   "outputs": [],
   "source": [
    "# Cell 1: Import Libraries and Define Functions\n",
    "import os\n",
    "import fitz\n",
    "import spacy\n",
    "from langchain.docstore.document import Document\n",
    "from langchain_community.vectorstores import FAISS\n",
    "from langchain_huggingface import HuggingFaceEmbeddings\n",
    "\n",
    "# Load SpaCy English model for sentence tokenization\n",
    "nlp = spacy.load(\"en_core_web_sm\")\n",
    "\n",
    "def spacy_sentence_tokenize(text: str) -> list:\n",
    "    \"\"\"\n",
    "    Tokenize text into sentences using SpaCy.\n",
    "    \"\"\"\n",
    "    doc = nlp(text)\n",
    "    return [sent.text.strip() for sent in doc.sents]\n",
    "\n",
    "def load_pdf_to_documents(pdf_path: str) -> list:\n",
    "    \"\"\"\n",
    "    Extract text from each page of a PDF and return a list of Document objects.\n",
    "    Cleans text to remove line breaks and hyphenation issues.\n",
    "    \"\"\"\n",
    "    documents = []\n",
    "    with fitz.open(pdf_path) as doc:\n",
    "        for i, page in enumerate(doc):\n",
    "            text = page.get_text()\n",
    "            # Normalize text: remove hyphenated line breaks and extra newlines\n",
    "            text = text.replace(\"-\\n\", \"\").replace(\"\\n\", \" \").strip()\n",
    "            if text:  # Skip empty pages\n",
    "                documents.append(Document(page_content=text, metadata={\"page\": i}))\n",
    "    return documents\n",
    "\n",
    "def analyze_chunks(chunks: list):\n",
    "    import matplotlib.pyplot as plt\n",
    "\n",
    "    token_lengths = [len(chunk.page_content.split()) for chunk in chunks]\n",
    "    \n",
    "    print(f\"Total Chunks: {len(token_lengths)}\")\n",
    "    print(f\"Average Tokens per Chunk: {sum(token_lengths) / len(token_lengths):.2f}\")\n",
    "    print(f\"Min Tokens: {min(token_lengths)}\")\n",
    "    print(f\"Max Tokens: {max(token_lengths)}\")\n",
    "\n",
    "    plt.hist(token_lengths, bins=20)\n",
    "    plt.title(\"Chunk Token Length Distribution\")\n",
    "    plt.xlabel(\"Token Count\")\n",
    "    plt.ylabel(\"Number of Chunks\")\n",
    "    plt.show()\n",
    "\n",
    "def sentence_overlap_chunk(doc_text: str, max_tokens: int = 150, overlap_sent_count: int = 2) -> list:\n",
    "    \"\"\"\n",
    "    Chunk a document based on sentences, with overlapping sentence context between chunks.\n",
    "    \"\"\"\n",
    "    sentences = spacy_sentence_tokenize(doc_text)\n",
    "    chunks = []\n",
    "    current_chunk = []\n",
    "    current_len = 0\n",
    "\n",
    "    for sentence in sentences:\n",
    "        token_count = len(sentence.split())\n",
    "        if current_len + token_count <= max_tokens:\n",
    "            current_chunk.append(sentence)\n",
    "            current_len += token_count\n",
    "        else:\n",
    "            chunks.append(\" \".join(current_chunk))\n",
    "            # Start next chunk with sentence overlap\n",
    "            current_chunk = current_chunk[-overlap_sent_count:] + [sentence]\n",
    "            current_len = sum(len(s.split()) for s in current_chunk)\n",
    "\n",
    "    if current_chunk:\n",
    "        chunks.append(\" \".join(current_chunk))\n",
    "    return chunks\n",
    "\n",
    "def build_vector_store(documents: list, max_tokens: int = 250, overlap_sent_count: int = 3,\n",
    "                       model_name: str = \"sentence-transformers/allenai-specter\",\n",
    "                       persist_directory: str = \"../her2_faiss_db\") -> FAISS:\n",
    "    \"\"\"\n",
    "    Build a FAISS vector store from sentence-aware chunks and save it locally.\n",
    "    \"\"\"\n",
    "    all_chunks = []\n",
    "    for doc in documents:\n",
    "        text = doc.page_content\n",
    "        metadata = doc.metadata\n",
    "        chunks = sentence_overlap_chunk(text, max_tokens=max_tokens, overlap_sent_count=overlap_sent_count)\n",
    "        all_chunks.extend([Document(page_content=chunk, metadata=metadata) for chunk in chunks])\n",
    "\n",
    "    analyze_chunks(all_chunks) \n",
    "    embedding_model = HuggingFaceEmbeddings(model_name=model_name)\n",
    "    vectorstore = FAISS.from_documents(all_chunks, embedding_model)\n",
    "    vectorstore.save_local(persist_directory)\n",
    "    return vectorstore\n",
    "\n",
    "def load_vector_store(model_name: str = \"sentence-transformers/allenai-specter\",\n",
    "                      persist_directory: str = \"../her2_faiss_db\") -> FAISS:\n",
    "    \"\"\"\n",
    "    Load an existing FAISS vector store from a local directory using the specified embedding model.\n",
    "    \"\"\"\n",
    "    embedding_model = HuggingFaceEmbeddings(model_name=model_name)\n",
    "    return FAISS.load_local(persist_directory, embedding_model, allow_dangerous_deserialization=True)\n",
    "\n",
    "def query_vector_store(vectorstore: FAISS, query: str, k: int = 3):\n",
    "    \"\"\"\n",
    "    Perform a similarity search on the vector store given a query string and return the top k documents.\n",
    "    \"\"\"\n",
    "    return vectorstore.similarity_search(query, k=k)\n"
   ]
  },
  {
   "cell_type": "code",
   "execution_count": 18,
   "metadata": {},
   "outputs": [
    {
     "name": "stdout",
     "output_type": "stream",
     "text": [
      "Processing PDF and building vector store...\n",
      "Total Chunks: 37\n",
      "Average Tokens per Chunk: 218.38\n",
      "Min Tokens: 38\n",
      "Max Tokens: 250\n"
     ]
    },
    {
     "data": {
      "image/png": "[encoded data removed]",
      "text/plain": [
       "<Figure size 640x480 with 1 Axes>"
      ]
     },
     "metadata": {},
     "output_type": "display_data"
    }
   ],
   "source": [
    "# Cell 2: Process the PDF and Build/Load the Vector Store\n",
    "pdf_path = \"../data/her2_paper.pdf\"\n",
    "persist_directory = \"../her2_faiss_db\"\n",
    "force_rebuild = True  # Set to False to skip rebuilding if vector store exists\n",
    "\n",
    "faiss_index_path = os.path.join(persist_directory, \"index.faiss\")\n",
    "\n",
    "# Load or build the FAISS vector store\n",
    "if not force_rebuild and os.path.exists(faiss_index_path):\n",
    "    print(\"Loading existing vector store...\")\n",
    "    vectorstore = load_vector_store(persist_directory=persist_directory)\n",
    "else:\n",
    "    print(\"Processing PDF and building vector store...\")\n",
    "    documents = load_pdf_to_documents(pdf_path)\n",
    "    vectorstore = build_vector_store(documents, persist_directory=persist_directory)\n"
   ]
  },
  {
   "cell_type": "code",
   "execution_count": 19,
   "metadata": {},
   "outputs": [
    {
     "name": "stdout",
     "output_type": "stream",
     "text": [
      "\n",
      "Query Results:\n",
      "\n",
      "--- Page 5 ---\n",
      "between HER-2/neu amplification and nodal status (P = 0.002) indicated that information on amplification of this gene may correlate with disease behavior; that is, recurrences and survival. To test this, univariate survival analyses were performed in which amplification was compared to relapse and survival in this patient group. A total of 35 patients had a recurrence ofthe disease, and 29 had died at the time of the analyses. Median times to relapse and death were 62 months and 69 months, respectively. The median follow-up time for patients still alive was 47 months, ranging from 24 to 86 months. A total of 71 of the 86 patients (83%) received some form of therapy after mastectomy: adjuvant systemic therapy alone, 47%; adjuvant systemic therapy plus local radiation, 19%; and local radiation alone, 17%. A strong and highly statistically significant correlation was found between the degree of gene amplification and both time to disease relapse (P = <0.0001) and survival (P = 0.0011) (Table 4). Moreover, when compared in univariate analyses to other parameters, amplification ofHER-2/neu was found to be superior to all other prognostic factors, with the exception of the number of positive nodes (which it equaled) in predicting time to relapse and overall survival in human breast cancer (Table 4). The association between HER-2/neu amplification and relapse and survival can be illustrated graphically in actuarial survival curves (Fig. 3, A to D).\n",
      "\n",
      "--- Page 3 ---\n",
      "that it too is likely to be a cellular receptor for an as yet unidentified ligand. As a result of the published data showing amplification of HER2/neu in a human mammary carcinoma cell line, and as part of an ongoing survey in our laboratory of proto-oncogene abnormalities in human tumors, we evaluated alterations of the HER-2/neu gene in a large series of human primary breast cancers. Our results show that amplification of this gene occurs relatively frequently in breast cancer, and that it is associated with disease relapse and overall patient survival. Factors that are known to be important in the prognosis of breast malignancies in individual patients include: size of the primary tumor, stage of disease at diagnosis, hormonal receptor status, and number of axillary lymph nodes involved with disease (positive nodes) (29). The current study, which was conducted in two parts, involved the evaluation oftissue from 189 separate breast malignancies that were part ofa breast cancer study ongoing at the University of Texas, San Antonio. This cohort of tumors was of interest because considerable information was available on the majority of the specimens including size of the primary tumor, estrogen receptor status, progesterone receptor status, age ofpatient, disease stage, and status of the axillary lymph nodes. In the initial survey, tissue from 103 primary breast cancers was evaluated for alterations in the HER-2/neu gene.\n",
      "\n",
      "--- Page 6 ---\n",
      "The question of amplification of HER-2/neu in metastatic as compared to primary lesions in a given patient is important. The current study utilized only primary breast tumors for analyses. It would be of interest to determine if HER-2/neu copy number is altered as the tumor metastasizes. A recent study evaluating N-myc copy number in human small cell carcinoma of the lung showed no difference between primary and metastatic lesions (11). The initial survey from the current study showed that 15% of breast cancer patients with stage I disease (node-negative) have HER-2/ncu amplification. Unfortunately, no long-term follow-up data were available for these patients. This stage I setting may be an additional group in which HER-2/neu measurements will have an impact in predicting biologic behavior ofthe tumor, and as a result, in design of treatment strategy. Finally, if the HER-2/neu gene product functions as a growth factor receptor that plays a role in the pathogenesis of breast cancer, identification of its ligand and development ofspecific antagonists could have important therapeutic implications. REFERENCES AND NOTES 1. J. M. Bishop, Annu. Rep. Biochm. 52, 301 (1983). 2. H. E. Varmus, Annu. Rev. Genat. 18, 553 (1984). 3. H. Land, L. F. Parada, R. A. Weinberg, Natur (Londn) 304, 596 (1983). 4. H. E. Rulcy, ibid., p. 602. 5. M. Schwab, H. E. Varmus, J. M. Bishop, ibid. 316, 160 (1985). 6. W. S. Hayward, B. G. Neel, S. M. Astn, ibid. 290, 475 (1981). 7. D. J. Slamon a at., Scence 224, 256 (1984).\n"
     ]
    }
   ],
   "source": [
    "# Cell 3: Query the Vector Store\n",
    "user_query = \"What is the role of HER2 in breast cancer?\"\n",
    "results = query_vector_store(vectorstore, user_query, k=3)\n",
    "\n",
    "print(\"\\nQuery Results:\")\n",
    "for doc in results:\n",
    "    page = doc.metadata.get(\"page\", \"Unknown\")\n",
    "    print(f\"\\n--- Page {page} ---\")\n",
    "    print(doc.page_content)\n"
   ]
  },
  {
   "cell_type": "code",
   "execution_count": null,
   "metadata": {},
   "outputs": [],
   "source": []
  }
 ],
 "metadata": {
  "kernelspec": {
   "display_name": "rag-chatbot",
   "language": "python",
   "name": "python3"
  },
  "language_info": {
   "codemirror_mode": {
    "name": "ipython",
    "version": 3
   },
   "file_extension": ".py",
   "mimetype": "text/x-python",
   "name": "python",
   "nbconvert_exporter": "python",
   "pygments_lexer": "ipython3",
   "version": "3.10.16"
  }
 },
 "nbformat": 4,
 "nbformat_minor": 2
}
