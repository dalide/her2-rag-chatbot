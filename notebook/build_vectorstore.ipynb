{
 "cells": [
  {
   "cell_type": "code",
   "execution_count": 11,
   "metadata": {},
   "outputs": [],
   "source": [
    "import sys\n",
    "sys.path.append(\"..\")  # if notebook is in /notebook and utils is at root\n",
    "\n",
    "from utils.pdf_vector_utils import (\n",
    "    load_pdf_to_documents,\n",
    "    build_vector_store,\n",
    "    load_vector_store,\n",
    "    query_vector_store\n",
    ")\n"
   ]
  },
  {
   "cell_type": "code",
   "execution_count": 12,
   "metadata": {},
   "outputs": [
    {
     "name": "stdout",
     "output_type": "stream",
     "text": [
      "Loading existing vectorstore...\n",
      "\n",
      "--- Result 1 (Page 5):\n",
      "between HER-2/neu amplification and nodal status (P = 0.002) indicated that information on amplification of this gene may correlate with disease behavior; that is, recurrences and survival. To test this, univariate survival analyses were performed in which amplification was compared to relapse and survival in this patient group. A total of 35 patients had a recurrence ofthe disease, and 29 had died at the time of the analyses. Median times to relapse and death were 62 months and 69 months, respe...\n",
      "\n",
      "\n",
      "--- Result 2 (Page 3):\n",
      "that it too is likely to be a cellular receptor for an as yet unidentified ligand. As a result of the published data showing amplification of HER2/neu in a human mammary carcinoma cell line, and as part of an ongoing survey in our laboratory of proto-oncogene abnormalities in human tumors, we evaluated alterations of the HER-2/neu gene in a large series of human primary breast cancers. Our results show that amplification of this gene occurs relatively frequently in breast cancer, and that it is ...\n",
      "\n",
      "\n",
      "--- Result 3 (Page 6):\n",
      "The question of amplification of HER-2/neu in metastatic as compared to primary lesions in a given patient is important. The current study utilized only primary breast tumors for analyses. It would be of interest to determine if HER-2/neu copy number is altered as the tumor metastasizes. A recent study evaluating N-myc copy number in human small cell carcinoma of the lung showed no difference between primary and metastatic lesions (11). The initial survey from the current study showed that 15% o...\n",
      "\n"
     ]
    }
   ],
   "source": [
    "# --- Cell: Setup ---\n",
    "pdf_path = \"../data/her2_paper.pdf\"\n",
    "persist_dir = \"./her2_faiss_db\"\n",
    "embedding_model = \"sentence-transformers/allenai-specter\"\n",
    "rebuild = False\n",
    "\n",
    "# --- Cell: Create or Load Vector DB ---\n",
    "if not rebuild and os.path.exists(os.path.join(persist_dir, \"index.faiss\")):\n",
    "    print(\"Loading existing vectorstore...\")\n",
    "    vectorstore = load_vector_store(persist_dir, model_name=embedding_model)\n",
    "else:\n",
    "    print(\"Building vectorstore from PDF...\")\n",
    "    docs = load_pdf_to_documents(pdf_path)\n",
    "    vectorstore = build_vector_store(docs, model_name=embedding_model, persist_directory=persist_dir)\n",
    "\n",
    "# --- Cell: Search ---\n",
    "query = \"What is the role of HER2 in breast cancer?\"\n",
    "results = query_vector_store(vectorstore, query, k=3)\n"
   ]
  },
  {
   "cell_type": "code",
   "execution_count": null,
   "metadata": {},
   "outputs": [],
   "source": []
  }
 ],
 "metadata": {
  "kernelspec": {
   "display_name": "rag-chatbot",
   "language": "python",
   "name": "python3"
  },
  "language_info": {
   "codemirror_mode": {
    "name": "ipython",
    "version": 3
   },
   "file_extension": ".py",
   "mimetype": "text/x-python",
   "name": "python",
   "nbconvert_exporter": "python",
   "pygments_lexer": "ipython3",
   "version": "3.10.16"
  }
 },
 "nbformat": 4,
 "nbformat_minor": 2
}
