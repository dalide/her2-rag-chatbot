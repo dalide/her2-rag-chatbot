{
 "cells": [
  {
   "cell_type": "code",
   "execution_count": 1,
   "metadata": {},
   "outputs": [],
   "source": [
    "# Cell 1: Import Libraries and Define Functions\n",
    "import os\n",
    "import fitz\n",
    "from langchain.schema import Document\n",
    "from langchain.text_splitter import RecursiveCharacterTextSplitter\n",
    "from langchain_huggingface import HuggingFaceEmbeddings\n",
    "from langchain_community.vectorstores import FAISS\n",
    "\n",
    "def load_pdf_to_documents(pdf_path: str) -> list:\n",
    "    \"\"\"\n",
    "    Extract text from each page of a PDF and return a list of Document objects.\n",
    "    \"\"\"\n",
    "    documents = []\n",
    "    with fitz.open(pdf_path) as doc:\n",
    "        for i, page in enumerate(doc):\n",
    "            text = page.get_text()\n",
    "            if text.strip():  # Skip empty pages\n",
    "                documents.append(Document(page_content=text, metadata={\"page\": i}))\n",
    "    return documents\n",
    "\n",
    "def build_vector_store(documents: list, chunk_size: int = 500, chunk_overlap: int = 100,\n",
    "                       model_name: str = \"sentence-transformers/all-MiniLM-L6-v2\",\n",
    "                       persist_directory: str = \"../her2_faiss_db\") -> FAISS:\n",
    "    \"\"\"\n",
    "    Split documents into chunks, embed them, and build a FAISS vector store saved locally.\n",
    "    \"\"\"\n",
    "    splitter = RecursiveCharacterTextSplitter(chunk_size=chunk_size, chunk_overlap=chunk_overlap)\n",
    "    chunks = splitter.split_documents(documents)\n",
    "    embedding_model = HuggingFaceEmbeddings(model_name=model_name)\n",
    "    vectorstore = FAISS.from_documents(chunks, embedding_model)\n",
    "    vectorstore.save_local(persist_directory)\n",
    "    return vectorstore\n",
    "\n",
    "def load_vector_store(model_name: str = \"sentence-transformers/all-MiniLM-L6-v2\",\n",
    "                      persist_directory: str = \"../her2_faiss_db\") -> FAISS:\n",
    "    \"\"\"\n",
    "    Load an existing FAISS vector store from a local directory.\n",
    "    \"\"\"\n",
    "    embedding_model = HuggingFaceEmbeddings(model_name=model_name)\n",
    "    return FAISS.load_local(persist_directory, embedding_model)\n",
    "\n",
    "def query_vector_store(vectorstore: FAISS, query: str, k: int = 3):\n",
    "    \"\"\"\n",
    "    Perform a similarity search on the vector store given a query string and return the top k documents.\n",
    "    \"\"\"\n",
    "    return vectorstore.similarity_search(query, k=k)\n"
   ]
  },
  {
   "cell_type": "code",
   "execution_count": 3,
   "metadata": {},
   "outputs": [
    {
     "name": "stdout",
     "output_type": "stream",
     "text": [
      "Processing PDF and building vector store...\n"
     ]
    }
   ],
   "source": [
    "# Cell 2: Process the PDF and Build/Load the Vector Store\n",
    "pdf_path = \"../data/her2_paper.pdf\"\n",
    "persist_directory = \"../her2_faiss_db\"\n",
    "\n",
    "# If the vector store already exists, load it; otherwise, process the PDF and create it.\n",
    "if os.path.exists(persist_directory):\n",
    "    print(\"Loading existing vector store...\")\n",
    "    vectorstore = load_vector_store(persist_directory=persist_directory)\n",
    "else:\n",
    "    print(\"Processing PDF and building vector store...\")\n",
    "    documents = load_pdf_to_documents(pdf_path)\n",
    "    vectorstore = build_vector_store(documents, persist_directory=persist_directory)\n"
   ]
  },
  {
   "cell_type": "code",
   "execution_count": 8,
   "metadata": {},
   "outputs": [
    {
     "name": "stdout",
     "output_type": "stream",
     "text": [
      "Number of chunks in the vector store: 99\n"
     ]
    }
   ],
   "source": [
    "# check the number of embedded chunks \n",
    "print(\"Number of chunks in the vector store:\", vectorstore.index.ntotal)\n"
   ]
  },
  {
   "cell_type": "code",
   "execution_count": 6,
   "metadata": {},
   "outputs": [
    {
     "name": "stdout",
     "output_type": "stream",
     "text": [
      "\n",
      "Query Results:\n",
      "\n",
      "--- Page 6 ---\n",
      "additional group in which HER-2/neu measurements will have an\n",
      "impact in predicting biologic behavior ofthe tumor, and as a result,\n",
      "in design of treatment strategy. Finally, if the HER-2/neu gene\n",
      "product functions as a growth factor receptor that plays a role in the\n",
      "pathogenesis of breast cancer, identification of its ligand and\n",
      "development ofspecific antagonists could have important therapeu-\n",
      "tic implications.\n",
      "REFERENCES AND NOTES\n",
      "1. J. M. Bishop, Annu. Rep. Biochm. 52, 301 (1983).\n",
      "\n",
      "--- Page 2 ---\n",
      "In the current study, alterations of the gene in 189\n",
      "primary human breast cancers were instigated HER-2/\n",
      "neu was found to be amplified frm 2- to\n",
      "eater than 20-\n",
      "fold in 30% ofthe tumors. Correlation ofgene amplifica-\n",
      "tion with several disease parameters was evaluated Am-\n",
      "plification of the HER-2/neu gene was a significant pre-\n",
      "dictor of both overall survival and time to relapse in\n",
      "patients with breast cancer. It retained its significance\n",
      "even when adjustments were made for other known\n",
      "\n",
      "--- Page 2 ---\n",
      "Human Breast Cancer: Correlation of\n",
      "Relapse and Survival with Amplification\n",
      "of the HER-2lneu Oncogene\n",
      "DENNIS J. SLAMON,* GARY M. CLARK, STEVEN G. WONG, WENDY J. LEVIN,\n",
      "AxEL ULLRICH, WILLiAM L. McGuIRE\n",
      "The HER-2/neu oncoFene is a member of the erbB-like\n",
      "oncogene family, and aS related to, but distinct firom, the\n",
      "epidermal growth factor receptr. This gene has been\n",
      "shown to be amplified i human brt cancer cell lines.\n",
      "In the current study, alterations of the gene in 189\n"
     ]
    }
   ],
   "source": [
    "# Cell 3: Query the Vector Store\n",
    "user_query = \"What is the role of HER2 in breast cancer?\"\n",
    "results = query_vector_store(vectorstore, user_query, k=3)\n",
    "\n",
    "print(\"\\nQuery Results:\")\n",
    "for doc in results:\n",
    "    page = doc.metadata.get(\"page\", \"Unknown\")\n",
    "    print(f\"\\n--- Page {page} ---\")\n",
    "    print(doc.page_content)\n"
   ]
  },
  {
   "cell_type": "code",
   "execution_count": null,
   "metadata": {},
   "outputs": [],
   "source": []
  }
 ],
 "metadata": {
  "kernelspec": {
   "display_name": "rag-chatbot",
   "language": "python",
   "name": "python3"
  },
  "language_info": {
   "codemirror_mode": {
    "name": "ipython",
    "version": 3
   },
   "file_extension": ".py",
   "mimetype": "text/x-python",
   "name": "python",
   "nbconvert_exporter": "python",
   "pygments_lexer": "ipython3",
   "version": "3.10.16"
  }
 },
 "nbformat": 4,
 "nbformat_minor": 2
}
