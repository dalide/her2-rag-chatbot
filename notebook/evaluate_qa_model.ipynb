{
 "cells": [
  {
   "cell_type": "code",
   "execution_count": 5,
   "id": "f1e51d7d",
   "metadata": {},
   "outputs": [],
   "source": [
    "import os\n",
    "import json\n",
    "import re\n",
    "import pandas as pd\n",
    "\n",
    "import sys\n",
    "\n",
    "# Add project root to Python path\n",
    "project_root = os.path.abspath(os.path.join(os.path.dirname(\"__file__\"), \"..\"))\n",
    "if project_root not in sys.path:\n",
    "    sys.path.append(project_root)\n",
    "\n",
    "from app.rag_app import get_answer"
   ]
  },
  {
   "cell_type": "code",
   "execution_count": 6,
   "id": "6da713ed",
   "metadata": {},
   "outputs": [],
   "source": [
    "# Adjust path for QA dataset\n",
    "qa_path = os.path.abspath(os.path.join(os.path.dirname(\"__file__\"), \"..\", \"data\", \"qa\", \"her2_qa_dataset_v2.json\"))"
   ]
  },
  {
   "cell_type": "code",
   "execution_count": 7,
   "id": "3661a41a",
   "metadata": {},
   "outputs": [],
   "source": [
    "# Load QA dataset\n",
    "with open(qa_path, \"r\") as f:\n",
    "    qa_data = json.load(f)\n"
   ]
  },
  {
   "cell_type": "code",
   "execution_count": 8,
   "id": "58693627",
   "metadata": {},
   "outputs": [],
   "source": [
    "# Helper functions for metrics\n",
    "def normalize(text):\n",
    "    return re.sub(r\"\\W+\", \" \", text.lower()).strip()\n",
    "\n",
    "def exact_match(pred, ref):\n",
    "    return int(normalize(pred) == normalize(ref))\n",
    "\n",
    "def f1_score(pred, ref):\n",
    "    pred_tokens = normalize(pred).split()\n",
    "    ref_tokens = normalize(ref).split()\n",
    "    common = set(pred_tokens) & set(ref_tokens)\n",
    "    if not common:\n",
    "        return 0.0\n",
    "    precision = len(common) / len(pred_tokens)\n",
    "    recall = len(common) / len(ref_tokens)\n",
    "    return 2 * precision * recall / (precision + recall)"
   ]
  },
  {
   "cell_type": "code",
   "execution_count": 12,
   "id": "b88674d3",
   "metadata": {},
   "outputs": [
    {
     "name": "stderr",
     "output_type": "stream",
     "text": [
      "/home/zlc/miniconda3/envs/rag-chatbot/lib/python3.10/site-packages/transformers/generation/configuration_utils.py:628: UserWarning: `do_sample` is set to `False`. However, `temperature` is set to `0.3` -- this flag is only used in sample-based generation modes. You should set `do_sample=True` or unset `temperature`.\n",
      "  warnings.warn(\n"
     ]
    }
   ],
   "source": [
    "# Evaluate\n",
    "records = []\n",
    "\n",
    "for i, item in enumerate(qa_data):\n",
    "    question = item[\"question\"]\n",
    "    reference = item[\"answer\"]\n",
    "    try:\n",
    "        # Evaluation version skips chat history to avoid extra formatting\n",
    "        prediction = get_answer(question, history=[])\n",
    "        # Truncate to answer only if any formatting is accidentally included\n",
    "        if \"User:\" in prediction:\n",
    "            prediction = prediction.split(\"User:\")[0].strip()\n",
    "    except Exception as e:\n",
    "        prediction = f\"ERROR: {e}\"\n",
    "\n",
    "    records.append({\n",
    "        \"#\": i + 1,\n",
    "        \"Question\": question,\n",
    "        \"Reference Answer\": reference,\n",
    "        \"Predicted Answer\": prediction,\n",
    "        \"EM\": exact_match(prediction, reference),\n",
    "        \"F1\": f1_score(prediction, reference)\n",
    "    })"
   ]
  },
  {
   "cell_type": "code",
   "execution_count": 13,
   "id": "3e6f7c25",
   "metadata": {},
   "outputs": [
    {
     "name": "stdout",
     "output_type": "stream",
     "text": [
      "\n",
      "✅ Average Exact Match: 0.00\n",
      "✅ Average F1 Score: 0.13\n"
     ]
    },
    {
     "data": {
      "text/html": [
       "<div>\n",
       "<style scoped>\n",
       "    .dataframe tbody tr th:only-of-type {\n",
       "        vertical-align: middle;\n",
       "    }\n",
       "\n",
       "    .dataframe tbody tr th {\n",
       "        vertical-align: top;\n",
       "    }\n",
       "\n",
       "    .dataframe thead th {\n",
       "        text-align: right;\n",
       "    }\n",
       "</style>\n",
       "<table border=\"1\" class=\"dataframe\">\n",
       "  <thead>\n",
       "    <tr style=\"text-align: right;\">\n",
       "      <th></th>\n",
       "      <th>#</th>\n",
       "      <th>EM</th>\n",
       "      <th>F1</th>\n",
       "    </tr>\n",
       "  </thead>\n",
       "  <tbody>\n",
       "    <tr>\n",
       "      <th>0</th>\n",
       "      <td>1</td>\n",
       "      <td>0</td>\n",
       "      <td>0.255319</td>\n",
       "    </tr>\n",
       "    <tr>\n",
       "      <th>1</th>\n",
       "      <td>2</td>\n",
       "      <td>0</td>\n",
       "      <td>0.066667</td>\n",
       "    </tr>\n",
       "    <tr>\n",
       "      <th>2</th>\n",
       "      <td>3</td>\n",
       "      <td>0</td>\n",
       "      <td>0.129870</td>\n",
       "    </tr>\n",
       "    <tr>\n",
       "      <th>3</th>\n",
       "      <td>4</td>\n",
       "      <td>0</td>\n",
       "      <td>0.173913</td>\n",
       "    </tr>\n",
       "    <tr>\n",
       "      <th>4</th>\n",
       "      <td>5</td>\n",
       "      <td>0</td>\n",
       "      <td>0.035088</td>\n",
       "    </tr>\n",
       "    <tr>\n",
       "      <th>5</th>\n",
       "      <td>6</td>\n",
       "      <td>0</td>\n",
       "      <td>0.051282</td>\n",
       "    </tr>\n",
       "    <tr>\n",
       "      <th>6</th>\n",
       "      <td>7</td>\n",
       "      <td>0</td>\n",
       "      <td>0.000000</td>\n",
       "    </tr>\n",
       "    <tr>\n",
       "      <th>7</th>\n",
       "      <td>8</td>\n",
       "      <td>0</td>\n",
       "      <td>0.230769</td>\n",
       "    </tr>\n",
       "    <tr>\n",
       "      <th>8</th>\n",
       "      <td>9</td>\n",
       "      <td>0</td>\n",
       "      <td>0.105263</td>\n",
       "    </tr>\n",
       "    <tr>\n",
       "      <th>9</th>\n",
       "      <td>10</td>\n",
       "      <td>0</td>\n",
       "      <td>0.222222</td>\n",
       "    </tr>\n",
       "  </tbody>\n",
       "</table>\n",
       "</div>"
      ],
      "text/plain": [
       "    #  EM        F1\n",
       "0   1   0  0.255319\n",
       "1   2   0  0.066667\n",
       "2   3   0  0.129870\n",
       "3   4   0  0.173913\n",
       "4   5   0  0.035088\n",
       "5   6   0  0.051282\n",
       "6   7   0  0.000000\n",
       "7   8   0  0.230769\n",
       "8   9   0  0.105263\n",
       "9  10   0  0.222222"
      ]
     },
     "execution_count": 13,
     "metadata": {},
     "output_type": "execute_result"
    }
   ],
   "source": [
    "# Create and display DataFrame\n",
    "df = pd.DataFrame(records)\n",
    "avg_em = df[\"EM\"].mean()\n",
    "avg_f1 = df[\"F1\"].mean()\n",
    "\n",
    "print(f\"\\n✅ Average Exact Match: {avg_em:.2f}\")\n",
    "print(f\"✅ Average F1 Score: {avg_f1:.2f}\")\n",
    "df[[\"#\", \"EM\", \"F1\"]]\n"
   ]
  },
  {
   "cell_type": "code",
   "execution_count": 14,
   "id": "321cca4d",
   "metadata": {},
   "outputs": [],
   "source": [
    "# Save results\n",
    "df.to_csv(\"../data/qa/her2_eval_predictions.csv\", index=False)"
   ]
  },
  {
   "cell_type": "code",
   "execution_count": null,
   "id": "2c8db372",
   "metadata": {},
   "outputs": [],
   "source": []
  }
 ],
 "metadata": {
  "kernelspec": {
   "display_name": "rag-chatbot",
   "language": "python",
   "name": "python3"
  },
  "language_info": {
   "codemirror_mode": {
    "name": "ipython",
    "version": 3
   },
   "file_extension": ".py",
   "mimetype": "text/x-python",
   "name": "python",
   "nbconvert_exporter": "python",
   "pygments_lexer": "ipython3",
   "version": "3.10.16"
  }
 },
 "nbformat": 4,
 "nbformat_minor": 5
}
